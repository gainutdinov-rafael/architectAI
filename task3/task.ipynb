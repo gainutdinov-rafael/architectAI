{
 "cells": [
  {
   "cell_type": "code",
   "execution_count": null,
   "metadata": {},
   "outputs": [],
   "source": [
    "print('Гайнутдинов Рафаэль Маратович')"
   ]
  }
 ],
 "metadata": {
  "kernelspec": {
   "display_name": "Python 3.11.0 64-bit",
   "language": "python",
   "name": "python3"
  },
  "language_info": {
   "name": "python",
   "version": "3.11.0"
  },
  "orig_nbformat": 4,
  "vscode": {
   "interpreter": {
    "hash": "531602cc6d562b3312310971730f4f26f0917925ed93aa1bd392fcce6b78b693"
   }
  }
 },
 "nbformat": 4,
 "nbformat_minor": 2
}
