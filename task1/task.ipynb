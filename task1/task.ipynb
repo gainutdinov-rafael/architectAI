{
  "nbformat": 4,
  "nbformat_minor": 0,
  "metadata": {
    "colab": {
      "provenance": []
    },
    "kernelspec": {
      "name": "python3",
      "display_name": "Python 3"
    },
    "language_info": {
      "name": "python"
    }
  },
  "cells": [
    {
      "cell_type": "code",
      "execution_count": null,
      "metadata": {
        "colab": {
          "base_uri": "https://localhost:8080/"
        },
        "id": "xDLWATZss6Ox",
        "outputId": "aa4f9338-0f26-4838-8763-e76d22b5e54d"
      },
      "outputs": [
        {
          "output_type": "stream",
          "name": "stdout",
          "text": [
            "Looking in indexes: https://pypi.org/simple, https://us-python.pkg.dev/colab-wheels/public/simple/\n",
            "Requirement already satisfied: numpy in /usr/local/lib/python3.10/dist-packages (1.22.4)\n"
          ]
        }
      ],
      "source": [
        "pip install numpy"
      ]
    },
    {
      "cell_type": "code",
      "source": [
        "import numpy as np\n",
        "\n",
        "matrix1 = np.array([[6, -8,  3]])\n",
        "matrix2 = np.array([[1],\n",
        "                    [1],\n",
        "                    [4]])\n",
        "print(np.matmul(matrix1,matrix2))"
      ],
      "metadata": {
        "colab": {
          "base_uri": "https://localhost:8080/"
        },
        "id": "acWHNuUTtGAI",
        "outputId": "f97b2665-122b-4c88-e929-17276d560db2"
      },
      "execution_count": null,
      "outputs": [
        {
          "output_type": "stream",
          "name": "stdout",
          "text": [
            "[[10]]\n"
          ]
        }
      ]
    },
    {
      "cell_type": "code",
      "source": [
        "import numpy as np\n",
        "\n",
        "matrix1 = np.array([[-3, -7],\n",
        "                    [-10, 6],\n",
        "                    [0, -6],\n",
        "                    [-1, -3]])\n",
        "matrix2 = np.array([[-8, 9],\n",
        "                    [4, -2]])\n",
        "print(np.matmul(matrix1,matrix2))"
      ],
      "metadata": {
        "colab": {
          "base_uri": "https://localhost:8080/"
        },
        "id": "QRZjI-fAuxZc",
        "outputId": "ef42f3db-2cc3-4bc4-c250-44d0d6c2f6e4"
      },
      "execution_count": null,
      "outputs": [
        {
          "output_type": "stream",
          "name": "stdout",
          "text": [
            "[[  -4  -13]\n",
            " [ 104 -102]\n",
            " [ -24   12]\n",
            " [  -4   -3]]\n"
          ]
        }
      ]
    }
  ]
}